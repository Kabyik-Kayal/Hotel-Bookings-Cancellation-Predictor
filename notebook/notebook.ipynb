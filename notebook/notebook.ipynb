{
 "cells": [
  {
   "cell_type": "code",
   "execution_count": null,
   "id": "397285a3",
   "metadata": {},
   "outputs": [],
   "source": [
    "import pandas as pd\n",
    "import numpy as np\n",
    "import matplotlib.pyplot as plt\n",
    "import seaborn as sns\n",
    "\n",
    "import warnings\n",
    "warnings.simplefilter(\"ignore\")"
   ]
  },
  {
   "cell_type": "code",
   "execution_count": null,
   "id": "4d55ff00",
   "metadata": {},
   "outputs": [],
   "source": [
    "df = pd.read_csv(\"train.csv\")"
   ]
  },
  {
   "cell_type": "code",
   "execution_count": null,
   "id": "8a0e94e6",
   "metadata": {},
   "outputs": [],
   "source": [
    "df.head()"
   ]
  },
  {
   "cell_type": "code",
   "execution_count": null,
   "id": "e9815444",
   "metadata": {},
   "outputs": [],
   "source": [
    "df.info()"
   ]
  },
  {
   "cell_type": "code",
   "execution_count": null,
   "id": "a68d3e3a",
   "metadata": {},
   "outputs": [],
   "source": [
    "df.drop(columns=[\"Unnamed: 0\",\"Booking_ID\"], inplace=True)"
   ]
  },
  {
   "cell_type": "code",
   "execution_count": null,
   "id": "c5441fcb",
   "metadata": {},
   "outputs": [],
   "source": [
    "df.isna().sum()"
   ]
  },
  {
   "cell_type": "code",
   "execution_count": null,
   "id": "15faf523",
   "metadata": {},
   "outputs": [],
   "source": [
    "df.head()"
   ]
  },
  {
   "cell_type": "code",
   "execution_count": null,
   "id": "bd62c455",
   "metadata": {},
   "outputs": [],
   "source": [
    "df.shape"
   ]
  },
  {
   "cell_type": "code",
   "execution_count": null,
   "id": "e38786b6",
   "metadata": {},
   "outputs": [],
   "source": [
    "df.duplicated().sum()"
   ]
  },
  {
   "cell_type": "code",
   "execution_count": null,
   "id": "7684146e",
   "metadata": {},
   "outputs": [],
   "source": [
    "df.drop_duplicates(inplace=True)"
   ]
  },
  {
   "cell_type": "code",
   "execution_count": null,
   "id": "cc8cdf40",
   "metadata": {},
   "outputs": [],
   "source": [
    "df.duplicated().sum()"
   ]
  },
  {
   "cell_type": "code",
   "execution_count": null,
   "id": "338e7ec4",
   "metadata": {},
   "outputs": [],
   "source": [
    "df.shape"
   ]
  },
  {
   "cell_type": "code",
   "execution_count": null,
   "id": "1ab6a306",
   "metadata": {},
   "outputs": [],
   "source": [
    "df.columns"
   ]
  },
  {
   "cell_type": "code",
   "execution_count": null,
   "id": "d6ae65ba",
   "metadata": {},
   "outputs": [],
   "source": [
    "df[\"no_of_adults\"].value_counts()"
   ]
  },
  {
   "cell_type": "code",
   "execution_count": null,
   "id": "01c90f63",
   "metadata": {},
   "outputs": [],
   "source": [
    "df[\"no_of_children\"].value_counts()"
   ]
  },
  {
   "cell_type": "code",
   "execution_count": null,
   "id": "a6a3edc9",
   "metadata": {},
   "outputs": [],
   "source": [
    "df[\"no_of_weekend_nights\"].value_counts()"
   ]
  },
  {
   "cell_type": "code",
   "execution_count": null,
   "id": "bfcb1165",
   "metadata": {},
   "outputs": [],
   "source": [
    "df[\"no_of_week_nights\"].value_counts()"
   ]
  },
  {
   "cell_type": "code",
   "execution_count": null,
   "id": "6e54e091",
   "metadata": {},
   "outputs": [],
   "source": [
    "df[\"type_of_meal_plan\"].value_counts()"
   ]
  },
  {
   "cell_type": "code",
   "execution_count": null,
   "id": "b2c2c793",
   "metadata": {},
   "outputs": [],
   "source": [
    "df[\"required_car_parking_space\"].value_counts()"
   ]
  },
  {
   "cell_type": "code",
   "execution_count": null,
   "id": "5b28cef2",
   "metadata": {},
   "outputs": [],
   "source": [
    "df[\"room_type_reserved\"].value_counts()"
   ]
  },
  {
   "cell_type": "code",
   "execution_count": null,
   "id": "6a39a41d",
   "metadata": {},
   "outputs": [],
   "source": [
    "df[\"arrival_year\"].value_counts()"
   ]
  },
  {
   "cell_type": "code",
   "execution_count": null,
   "id": "6b6c54ff",
   "metadata": {},
   "outputs": [],
   "source": [
    "df[\"arrival_month\"].value_counts()"
   ]
  },
  {
   "cell_type": "code",
   "execution_count": null,
   "id": "77b74bef",
   "metadata": {},
   "outputs": [],
   "source": [
    "df[\"market_segment_type\"].value_counts()"
   ]
  },
  {
   "cell_type": "code",
   "execution_count": null,
   "id": "5e1e9071",
   "metadata": {},
   "outputs": [],
   "source": [
    "df[\"repeated_guest\"].value_counts()"
   ]
  },
  {
   "cell_type": "code",
   "execution_count": null,
   "id": "35d2bb60",
   "metadata": {},
   "outputs": [],
   "source": [
    "df[\"required_car_parking_space\"].value_counts()"
   ]
  },
  {
   "cell_type": "code",
   "execution_count": null,
   "id": "08a4b357",
   "metadata": {},
   "outputs": [],
   "source": [
    "df[\"no_of_previous_cancellations\"].value_counts()"
   ]
  },
  {
   "cell_type": "markdown",
   "id": "70d7837d",
   "metadata": {},
   "source": [
    "# Data is imbalanced"
   ]
  },
  {
   "cell_type": "code",
   "execution_count": null,
   "id": "5d7a3610",
   "metadata": {},
   "outputs": [],
   "source": [
    "cat_cols = [\"type_of_meal_plan\", \"room_type_reserved\", \"market_segment_type\", \"repeated_guest\", \"required_car_parking_space\", \"booking_status\"]\n",
    "\n",
    "num_cols = [\"no_of_adults\", \"no_of_children\", \"no_of_weekend_nights\", \"no_of_week_nights\", \"lead_time\", \"arrival_year\", \"arrival_month\", \"arrival_date\", \"avg_price_per_room\", \"no_of_previous_cancellations\", \"no_of_previous_bookings_not_canceled\", \"no_of_special_requests\"]"
   ]
  },
  {
   "cell_type": "code",
   "execution_count": null,
   "id": "a44ee821",
   "metadata": {},
   "outputs": [],
   "source": [
    "len(cat_cols), len(num_cols)"
   ]
  },
  {
   "cell_type": "markdown",
   "id": "d620c260",
   "metadata": {},
   "source": [
    "# DATA ANALYSIS"
   ]
  },
  {
   "cell_type": "code",
   "execution_count": null,
   "id": "ad4e5f34",
   "metadata": {},
   "outputs": [],
   "source": [
    "data = df.copy()"
   ]
  },
  {
   "cell_type": "code",
   "execution_count": null,
   "id": "dafc9ead",
   "metadata": {},
   "outputs": [],
   "source": [
    "data.head()"
   ]
  },
  {
   "cell_type": "markdown",
   "id": "6f05f81f",
   "metadata": {},
   "source": [
    "## Univariate Analysis"
   ]
  },
  {
   "cell_type": "code",
   "execution_count": null,
   "id": "4534e716",
   "metadata": {},
   "outputs": [],
   "source": [
    "def num_plot_dist(df, num_features):\n",
    "    fig, axes = plt.subplots(len(num_features), 2, figsize=(15, 5*len(num_features)))\n",
    "    if len(num_features) == 1:\n",
    "        axes = [axes]\n",
    "\n",
    "    for i, column in enumerate(num_features):\n",
    "        \n",
    "        sns.histplot(data = df, x=column, kde=True, ax=axes[i][0], palette=\"Blues\")\n",
    "        axes[i][0].set_title(f\"Distribution of {column}\")\n",
    "\n",
    "        sns.boxplot(data = df, x=column, ax=axes[i][1], palette=\"Blues\")\n",
    "        axes[i][1].set_title(f\"Boxplot of {column}\")\n",
    "        \n",
    "    plt.tight_layout()\n",
    "    plt.show()\n"
   ]
  },
  {
   "cell_type": "code",
   "execution_count": null,
   "id": "e2434797",
   "metadata": {},
   "outputs": [],
   "source": [
    "num_plot_dist(data, num_cols)"
   ]
  },
  {
   "cell_type": "code",
   "execution_count": null,
   "id": "11a98951",
   "metadata": {},
   "outputs": [],
   "source": [
    "for cat_features in cat_cols:\n",
    "    plt.figure(figsize=(10,6))\n",
    "    data[cat_features].value_counts().plot(kind='bar', color='skyblue')\n",
    "    plt.title(f\"Count of {cat_features}\")\n",
    "    plt.xlabel(cat_features)\n",
    "    plt.ylabel(\"Count\")\n",
    "    plt.show()"
   ]
  },
  {
   "cell_type": "markdown",
   "id": "de5e392b",
   "metadata": {},
   "source": [
    "## Bivariate Analysis"
   ]
  },
  {
   "cell_type": "code",
   "execution_count": null,
   "id": "d25ab970",
   "metadata": {},
   "outputs": [],
   "source": [
    "def plot_bivariate_num(df, target, num_features):\n",
    "    num_plots=len(num_features)\n",
    "    num_rows=(num_plots+1)//2\n",
    "\n",
    "    fig, axes = plt.subplots(num_rows, 2, figsize=(15, 5*num_rows))\n",
    "    axes = axes.flatten()\n",
    "    \n",
    "    for i, column in enumerate(num_features):\n",
    "        sns.boxplot(data = df, x=target, y=column, ax=axes[i], palette=\"Blues\")\n",
    "        axes[i].set_title(f\"{column} VS {target}\")\n",
    "    \n",
    "    plt.tight_layout()\n",
    "    plt.show()"
   ]
  },
  {
   "cell_type": "code",
   "execution_count": null,
   "id": "052b1c62",
   "metadata": {},
   "outputs": [],
   "source": [
    "plot_bivariate_num(data, \"booking_status\", num_cols)"
   ]
  },
  {
   "cell_type": "code",
   "execution_count": null,
   "id": "71fa72f7",
   "metadata": {},
   "outputs": [],
   "source": [
    "sns.barplot(x=\"arrival_month\", y=\"avg_price_per_room\", data=data, palette=\"Blues\")\n",
    "plt.show()"
   ]
  },
  {
   "cell_type": "code",
   "execution_count": null,
   "id": "12de5947",
   "metadata": {},
   "outputs": [],
   "source": [
    "def plot_bivariate_cat(df, target, cat_features):\n",
    "\n",
    "    num_features = len(cat_features)\n",
    "    num_rows = (num_features+1)//2\n",
    "\n",
    "    fig, axes = plt.subplots(num_rows, 2, figsize=(15, 5*num_rows))\n",
    "    axes = axes.flatten()\n",
    "    for i, feature in enumerate(cat_features):\n",
    "        sns.countplot(data = df, x=feature, hue=target, ax=axes[i], palette=\"Set2\")\n",
    "        axes[i].set_title(f\"{feature} VS {target}\")\n",
    "        axes[i].tick_params(axis='x', rotation=45)\n",
    "    plt.tight_layout()\n",
    "    plt.show()"
   ]
  },
  {
   "cell_type": "code",
   "execution_count": null,
   "id": "f611243f",
   "metadata": {},
   "outputs": [],
   "source": [
    "plot_bivariate_cat(data, \"booking_status\", cat_cols)"
   ]
  },
  {
   "cell_type": "markdown",
   "id": "09dbc898",
   "metadata": {},
   "source": [
    "# Data Processing"
   ]
  },
  {
   "cell_type": "code",
   "execution_count": null,
   "id": "bea9fcdc",
   "metadata": {},
   "outputs": [],
   "source": [
    "df.head()"
   ]
  },
  {
   "cell_type": "code",
   "execution_count": null,
   "id": "378eed67",
   "metadata": {},
   "outputs": [],
   "source": [
    "df.info()"
   ]
  },
  {
   "cell_type": "markdown",
   "id": "5437d0e1",
   "metadata": {},
   "source": [
    "# Label Encoding"
   ]
  },
  {
   "cell_type": "code",
   "execution_count": null,
   "id": "66cb9871",
   "metadata": {},
   "outputs": [],
   "source": [
    "from sklearn.preprocessing import LabelEncoder"
   ]
  },
  {
   "cell_type": "code",
   "execution_count": null,
   "id": "dbe7bbb8",
   "metadata": {},
   "outputs": [],
   "source": [
    "label_encoder = LabelEncoder()\n",
    "\n",
    "mappings = {}\n",
    "\n",
    "for col in cat_cols:\n",
    "    df[col] = label_encoder.fit_transform(df[col])\n",
    "    mappings[col] = {label:code for label, code in zip(label_encoder.classes_ , label_encoder.transform(label_encoder.classes_))}\n"
   ]
  },
  {
   "cell_type": "code",
   "execution_count": null,
   "id": "87107a4e",
   "metadata": {},
   "outputs": [],
   "source": [
    "mappings"
   ]
  },
  {
   "cell_type": "code",
   "execution_count": null,
   "id": "cf7e07e6",
   "metadata": {},
   "outputs": [],
   "source": [
    "df.head()"
   ]
  },
  {
   "cell_type": "code",
   "execution_count": null,
   "id": "a429054d",
   "metadata": {},
   "outputs": [],
   "source": [
    "df.info()"
   ]
  },
  {
   "cell_type": "markdown",
   "id": "b6671269",
   "metadata": {},
   "source": [
    "## Multicollinearity"
   ]
  },
  {
   "cell_type": "code",
   "execution_count": null,
   "id": "1634853a",
   "metadata": {},
   "outputs": [],
   "source": [
    "from statsmodels.stats.outliers_influence import variance_inflation_factor\n",
    "from statsmodels.tools.tools import add_constant"
   ]
  },
  {
   "cell_type": "code",
   "execution_count": null,
   "id": "eb1cd261",
   "metadata": {},
   "outputs": [],
   "source": [
    "x = add_constant(df)\n",
    "\n",
    "vif_data = pd.DataFrame()\n",
    "\n",
    "vif_data[\"feature\"] = x.columns"
   ]
  },
  {
   "cell_type": "code",
   "execution_count": null,
   "id": "e60accf1",
   "metadata": {},
   "outputs": [],
   "source": [
    "vif_data"
   ]
  },
  {
   "cell_type": "code",
   "execution_count": null,
   "id": "a37de701",
   "metadata": {},
   "outputs": [],
   "source": [
    "vif_data[\"VIF\"] = [variance_inflation_factor(x.values, i) for i in range(x.shape[1])]"
   ]
  },
  {
   "cell_type": "code",
   "execution_count": null,
   "id": "c29b4323",
   "metadata": {},
   "outputs": [],
   "source": [
    "vif_data[\"VIF\"]"
   ]
  },
  {
   "cell_type": "markdown",
   "id": "f47a4335",
   "metadata": {},
   "source": [
    "#### NOTE : Data don't have any multicollinearity"
   ]
  },
  {
   "cell_type": "code",
   "execution_count": null,
   "id": "8d4d98bf",
   "metadata": {},
   "outputs": [],
   "source": [
    "corr = df.corr()\n",
    "plt.figure(figsize=(15, 10))\n",
    "sns.heatmap(corr, annot=True, cmap=\"coolwarm\", fmt=\".2f\")\n",
    "plt.title(\"Correlation Heatmap\")\n",
    "plt.show()"
   ]
  },
  {
   "cell_type": "markdown",
   "id": "351eb364",
   "metadata": {},
   "source": [
    "## Skewness"
   ]
  },
  {
   "cell_type": "code",
   "execution_count": null,
   "id": "f5d1219a",
   "metadata": {},
   "outputs": [],
   "source": [
    "skewness = df.skew()\n",
    "skewness"
   ]
  },
  {
   "cell_type": "code",
   "execution_count": null,
   "id": "18e6a70b",
   "metadata": {},
   "outputs": [],
   "source": [
    "for col in df.columns:\n",
    "    if skewness[col] > 5:\n",
    "        df[col] = np.log1p(df[col])"
   ]
  },
  {
   "cell_type": "code",
   "execution_count": null,
   "id": "2eb87f4b",
   "metadata": {},
   "outputs": [],
   "source": [
    "skewness = df.skew()\n",
    "skewness"
   ]
  },
  {
   "cell_type": "markdown",
   "id": "488111db",
   "metadata": {},
   "source": [
    "## Imbalanced Data Handling"
   ]
  },
  {
   "cell_type": "code",
   "execution_count": null,
   "id": "eab6675a",
   "metadata": {},
   "outputs": [],
   "source": [
    "df[\"booking_status\"].value_counts()"
   ]
  },
  {
   "cell_type": "code",
   "execution_count": null,
   "id": "a6b02b43",
   "metadata": {},
   "outputs": [],
   "source": [
    "X = df.drop(columns=[\"booking_status\"])\n",
    "y = df[\"booking_status\"]"
   ]
  },
  {
   "cell_type": "code",
   "execution_count": null,
   "id": "9cf1fb5e",
   "metadata": {},
   "outputs": [],
   "source": [
    "X.columns"
   ]
  },
  {
   "cell_type": "code",
   "execution_count": null,
   "id": "2f7dc3d6",
   "metadata": {},
   "outputs": [],
   "source": [
    "from imblearn.over_sampling import SMOTE"
   ]
  },
  {
   "cell_type": "code",
   "execution_count": null,
   "id": "824c245a",
   "metadata": {},
   "outputs": [],
   "source": [
    "smote = SMOTE(random_state=42)\n",
    "\n",
    "X_res, y_res = smote.fit_resample(X, y)"
   ]
  },
  {
   "cell_type": "code",
   "execution_count": null,
   "id": "0e179448",
   "metadata": {},
   "outputs": [],
   "source": [
    "y_res.value_counts()"
   ]
  },
  {
   "cell_type": "code",
   "execution_count": null,
   "id": "a0284de2",
   "metadata": {},
   "outputs": [],
   "source": [
    "balanced_df = pd.DataFrame(X_res, columns=X.columns)\n",
    "balanced_df[\"booking_status\"] = y_res"
   ]
  },
  {
   "cell_type": "code",
   "execution_count": null,
   "id": "cf2398b8",
   "metadata": {},
   "outputs": [],
   "source": [
    "balanced_df.head()"
   ]
  },
  {
   "cell_type": "code",
   "execution_count": null,
   "id": "a2a50b86",
   "metadata": {},
   "outputs": [],
   "source": [
    "balanced_df.info()"
   ]
  },
  {
   "cell_type": "code",
   "execution_count": null,
   "id": "27c7f3c8",
   "metadata": {},
   "outputs": [],
   "source": [
    "df = balanced_df.copy()"
   ]
  },
  {
   "cell_type": "code",
   "execution_count": null,
   "id": "33a8fe62",
   "metadata": {},
   "outputs": [],
   "source": [
    "df.shape"
   ]
  },
  {
   "cell_type": "markdown",
   "id": "7179422e",
   "metadata": {},
   "source": [
    "## Feature Selection"
   ]
  },
  {
   "cell_type": "code",
   "execution_count": null,
   "id": "c6cb8f14",
   "metadata": {},
   "outputs": [],
   "source": [
    "from sklearn.ensemble import RandomForestClassifier\n",
    "\n",
    "X = df.drop(columns=[\"booking_status\"])\n",
    "y = df[\"booking_status\"]\n"
   ]
  },
  {
   "cell_type": "code",
   "execution_count": null,
   "id": "853d1bd8",
   "metadata": {},
   "outputs": [],
   "source": [
    "model = RandomForestClassifier(random_state=42)\n",
    "model.fit(X, y)"
   ]
  },
  {
   "cell_type": "code",
   "execution_count": null,
   "id": "812b222a",
   "metadata": {},
   "outputs": [],
   "source": [
    "feature_importance = model.feature_importances_"
   ]
  },
  {
   "cell_type": "code",
   "execution_count": null,
   "id": "078bba85",
   "metadata": {},
   "outputs": [],
   "source": [
    "feature_importance_df = pd.DataFrame({\n",
    "    \"Feature\": X.columns,\n",
    "    \"Importance\": feature_importance\n",
    "})"
   ]
  },
  {
   "cell_type": "code",
   "execution_count": null,
   "id": "eceb399b",
   "metadata": {},
   "outputs": [],
   "source": [
    "feature_importance_df"
   ]
  },
  {
   "cell_type": "code",
   "execution_count": null,
   "id": "93883169",
   "metadata": {},
   "outputs": [],
   "source": [
    "top_important_features_df = feature_importance_df.sort_values(by=\"Importance\", ascending=False)"
   ]
  },
  {
   "cell_type": "code",
   "execution_count": null,
   "id": "2fb9e087",
   "metadata": {},
   "outputs": [],
   "source": [
    "top_10_features = top_important_features_df[\"Feature\"].head(10).values\n",
    "\n",
    "top_10_df = df[top_10_features.tolist() + [\"booking_status\"]]\n"
   ]
  },
  {
   "cell_type": "code",
   "execution_count": null,
   "id": "451be92f",
   "metadata": {},
   "outputs": [],
   "source": [
    "len(top_10_df.columns)"
   ]
  },
  {
   "cell_type": "code",
   "execution_count": null,
   "id": "f102dd85",
   "metadata": {},
   "outputs": [],
   "source": [
    "df = top_10_df.copy()"
   ]
  },
  {
   "cell_type": "markdown",
   "id": "a8768830",
   "metadata": {},
   "source": [
    "## Model Selection"
   ]
  },
  {
   "cell_type": "code",
   "execution_count": null,
   "id": "c8b062fb",
   "metadata": {},
   "outputs": [],
   "source": [
    "%pip install xgboost lightgbm "
   ]
  },
  {
   "cell_type": "code",
   "execution_count": null,
   "id": "fabb1f0f",
   "metadata": {},
   "outputs": [],
   "source": [
    "from sklearn.model_selection import train_test_split\n",
    "\n",
    "from sklearn.ensemble import RandomForestClassifier, GradientBoostingClassifier, AdaBoostClassifier\n",
    "from sklearn.linear_model import LogisticRegression\n",
    "from sklearn.svm import SVC\n",
    "from sklearn.tree import DecisionTreeClassifier\n",
    "from sklearn.naive_bayes import GaussianNB\n",
    "from sklearn.neighbors import KNeighborsClassifier\n",
    "from xgboost import XGBClassifier\n",
    "from lightgbm import LGBMClassifier\n",
    "\n",
    "from sklearn.metrics import accuracy_score, recall_score, precision_score, f1_score"
   ]
  },
  {
   "cell_type": "code",
   "execution_count": null,
   "id": "bd2a99f2",
   "metadata": {},
   "outputs": [],
   "source": [
    "X = df.drop(columns=[\"booking_status\"])\n",
    "y = df[\"booking_status\"]"
   ]
  },
  {
   "cell_type": "code",
   "execution_count": null,
   "id": "c67147e8",
   "metadata": {},
   "outputs": [],
   "source": [
    "X_train, X_test, y_train, y_test = train_test_split(X, y, test_size=0.2, random_state=42)"
   ]
  },
  {
   "cell_type": "code",
   "execution_count": null,
   "id": "5ed9e762",
   "metadata": {},
   "outputs": [],
   "source": [
    "classifiers = {\n",
    "    \"Logistic Regression\": LogisticRegression(random_state=42),\n",
    "    \"Random Forest\": RandomForestClassifier(random_state=42),\n",
    "    \"Decision Tree\": DecisionTreeClassifier(random_state=42),\n",
    "    \"Gradient Boosting\": GradientBoostingClassifier(random_state=42),\n",
    "    \"AdaBoost\": AdaBoostClassifier(random_state=42),\n",
    "    \"K-Nearest Neighbors\": KNeighborsClassifier(),\n",
    "    \"Naive Bayes\": GaussianNB(),\n",
    "    \"Support Vector Machine\": SVC(random_state=42),\n",
    "    \"XGBoost\": XGBClassifier(random_state=42),\n",
    "    \"LightGBM\": LGBMClassifier(random_state=42)\n",
    "}"
   ]
  },
  {
   "cell_type": "code",
   "execution_count": null,
   "id": "c1159733",
   "metadata": {},
   "outputs": [],
   "source": [
    "metrics = {\n",
    "    \"Model\" : [],\n",
    "    \"Accuracy\" : [],\n",
    "    \"Recall\" : [],\n",
    "    \"Precision\" : [],\n",
    "    \"F1 Score\" : []\n",
    "}"
   ]
  },
  {
   "cell_type": "code",
   "execution_count": null,
   "id": "b6371b53",
   "metadata": {},
   "outputs": [],
   "source": [
    "for model_name, classifier in classifiers.items():\n",
    "    classifier.fit(X_train, y_train)\n",
    "    y_pred = classifier.predict(X_test)\n",
    "    \n",
    "    Accuracy = accuracy_score(y_test, y_pred)\n",
    "    Recall = recall_score(y_test, y_pred)\n",
    "    Precision = precision_score(y_test, y_pred)\n",
    "    F1_Score = f1_score(y_test, y_pred)\n",
    "\n",
    "    metrics[\"Model\"].append(model_name)\n",
    "    metrics[\"Accuracy\"].append(Accuracy)\n",
    "    metrics[\"Recall\"].append(Recall)\n",
    "    metrics[\"Precision\"].append(Precision)\n",
    "    metrics[\"F1 Score\"].append(F1_Score)"
   ]
  },
  {
   "cell_type": "code",
   "execution_count": null,
   "id": "49fb0a5a",
   "metadata": {},
   "outputs": [],
   "source": [
    "print(metrics)"
   ]
  },
  {
   "cell_type": "code",
   "execution_count": null,
   "id": "a246c370",
   "metadata": {},
   "outputs": [],
   "source": [
    "metrics_df = pd.DataFrame(metrics)\n",
    "metrics_df"
   ]
  },
  {
   "cell_type": "markdown",
   "id": "72eecc3e",
   "metadata": {},
   "source": [
    "#### Random Forest seems the best option , we will perform Hyperparameter tuning on it"
   ]
  },
  {
   "cell_type": "code",
   "execution_count": null,
   "id": "0bcd1976",
   "metadata": {},
   "outputs": [],
   "source": [
    "from sklearn.model_selection import RandomizedSearchCV\n",
    "from scipy.stats import randint"
   ]
  },
  {
   "cell_type": "code",
   "execution_count": null,
   "id": "be103337",
   "metadata": {},
   "outputs": [],
   "source": [
    "X = df.drop(columns=[\"booking_status\"])\n",
    "y = df[\"booking_status\"]\n",
    "\n",
    "X_train, X_test, y_train, y_test = train_test_split(X, y, test_size=0.2, random_state=42)\n",
    "\n",
    "rf = RandomForestClassifier(random_state=42)"
   ]
  },
  {
   "cell_type": "code",
   "execution_count": null,
   "id": "6a700e77",
   "metadata": {},
   "outputs": [],
   "source": [
    "params_dist = {\n",
    "    \"n_estimators\": randint(100, 500),\n",
    "    \"max_depth\": randint(10, 50),\n",
    "    \"min_samples_split\": randint(2, 10),\n",
    "    \"min_samples_leaf\": randint(1, 5),\n",
    "    \"bootstrap\": [True,False]\n",
    "}"
   ]
  },
  {
   "cell_type": "code",
   "execution_count": null,
   "id": "b999ee1d",
   "metadata": {},
   "outputs": [],
   "source": [
    "random_search = RandomizedSearchCV(\n",
    "    estimator=rf,\n",
    "    param_distributions=params_dist,\n",
    "    n_iter=10,\n",
    "    cv=5,\n",
    "    verbose=2,\n",
    "    random_state=42,\n",
    "    scoring=\"accuracy\"\n",
    ")"
   ]
  },
  {
   "cell_type": "code",
   "execution_count": null,
   "id": "c642430f",
   "metadata": {},
   "outputs": [],
   "source": [
    "random_search.fit(X_train, y_train)"
   ]
  },
  {
   "cell_type": "code",
   "execution_count": null,
   "id": "8ba78f66",
   "metadata": {},
   "outputs": [],
   "source": [
    "random_search.best_params_"
   ]
  },
  {
   "cell_type": "code",
   "execution_count": null,
   "id": "fc1cd2e2",
   "metadata": {},
   "outputs": [],
   "source": [
    "best_rf_model = random_search.best_estimator_"
   ]
  },
  {
   "cell_type": "code",
   "execution_count": null,
   "id": "205a6a3f",
   "metadata": {},
   "outputs": [],
   "source": [
    "y_pred = best_rf_model.predict(X_test)"
   ]
  },
  {
   "cell_type": "code",
   "execution_count": null,
   "id": "9deecad0",
   "metadata": {},
   "outputs": [],
   "source": [
    "Precision = precision_score(y_test, y_pred)\n",
    "Recall = recall_score(y_test, y_pred)\n",
    "F1_Score = f1_score(y_test, y_pred)\n",
    "Accuracy = accuracy_score(y_test, y_pred)"
   ]
  },
  {
   "cell_type": "code",
   "execution_count": null,
   "id": "54969190",
   "metadata": {},
   "outputs": [],
   "source": [
    "Precision"
   ]
  },
  {
   "cell_type": "code",
   "execution_count": null,
   "id": "d59569f6",
   "metadata": {},
   "outputs": [],
   "source": [
    "Recall"
   ]
  },
  {
   "cell_type": "code",
   "execution_count": null,
   "id": "c6ef5766",
   "metadata": {},
   "outputs": [],
   "source": [
    "Accuracy"
   ]
  },
  {
   "cell_type": "code",
   "execution_count": null,
   "id": "de338d21",
   "metadata": {},
   "outputs": [],
   "source": [
    "F1_Score"
   ]
  },
  {
   "cell_type": "markdown",
   "id": "db2744b4",
   "metadata": {},
   "source": [
    "### Save the best model"
   ]
  },
  {
   "cell_type": "code",
   "execution_count": null,
   "id": "3d63c075",
   "metadata": {},
   "outputs": [],
   "source": [
    "import joblib\n",
    "\n",
    "joblib.dump(best_rf_model, \"random_forest.pkl\")"
   ]
  },
  {
   "cell_type": "code",
   "execution_count": null,
   "id": "f6a32f43",
   "metadata": {},
   "outputs": [],
   "source": [
    "loaded_model = joblib.load(\"random_forest.pkl\")"
   ]
  },
  {
   "cell_type": "code",
   "execution_count": null,
   "id": "262cffc1",
   "metadata": {},
   "outputs": [],
   "source": [
    "X_train[0:1]"
   ]
  },
  {
   "cell_type": "code",
   "execution_count": null,
   "id": "cab615b1",
   "metadata": {},
   "outputs": [],
   "source": [
    "new_data = np.array([190, 1, 93.5, 9, 8, 4, 5, 2, 0, 0]).reshape(1, -1)"
   ]
  },
  {
   "cell_type": "code",
   "execution_count": null,
   "id": "5783561e",
   "metadata": {},
   "outputs": [],
   "source": [
    "predictions = loaded_model.predict(new_data)"
   ]
  },
  {
   "cell_type": "code",
   "execution_count": null,
   "id": "7f4a427b",
   "metadata": {},
   "outputs": [],
   "source": [
    "predictions"
   ]
  }
 ],
 "metadata": {
  "kernelspec": {
   "display_name": "venv",
   "language": "python",
   "name": "python3"
  },
  "language_info": {
   "codemirror_mode": {
    "name": "ipython",
    "version": 3
   },
   "file_extension": ".py",
   "mimetype": "text/x-python",
   "name": "python",
   "nbconvert_exporter": "python",
   "pygments_lexer": "ipython3",
   "version": "3.11.12"
  }
 },
 "nbformat": 4,
 "nbformat_minor": 5
}
